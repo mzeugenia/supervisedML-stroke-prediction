{
 "cells": [
  {
   "cell_type": "markdown",
   "id": "ba7e63a5",
   "metadata": {},
   "source": [
    "# Predict stroke : downsize (50:50)"
   ]
  },
  {
   "cell_type": "code",
   "execution_count": 301,
   "id": "5a97068c",
   "metadata": {},
   "outputs": [],
   "source": [
    "import pandas as pd\n",
    "import numpy as np\n",
    "import seaborn as sns\n",
    "import matplotlib.pyplot as plt"
   ]
  },
  {
   "cell_type": "code",
   "execution_count": 302,
   "id": "4b2bd201",
   "metadata": {},
   "outputs": [],
   "source": [
    "# SOURCE : https://www.kaggle.com/datasets/fedesoriano/stroke-prediction-dataset\n",
    "df = pd.read_csv(\"healthcare-dataset-stroke-data.csv\") "
   ]
  },
  {
   "cell_type": "code",
   "execution_count": 303,
   "id": "af9e4b82",
   "metadata": {},
   "outputs": [
    {
     "data": {
      "text/html": [
       "<div>\n",
       "<style scoped>\n",
       "    .dataframe tbody tr th:only-of-type {\n",
       "        vertical-align: middle;\n",
       "    }\n",
       "\n",
       "    .dataframe tbody tr th {\n",
       "        vertical-align: top;\n",
       "    }\n",
       "\n",
       "    .dataframe thead th {\n",
       "        text-align: right;\n",
       "    }\n",
       "</style>\n",
       "<table border=\"1\" class=\"dataframe\">\n",
       "  <thead>\n",
       "    <tr style=\"text-align: right;\">\n",
       "      <th></th>\n",
       "      <th>id</th>\n",
       "      <th>gender</th>\n",
       "      <th>age</th>\n",
       "      <th>hypertension</th>\n",
       "      <th>heart_disease</th>\n",
       "      <th>ever_married</th>\n",
       "      <th>work_type</th>\n",
       "      <th>Residence_type</th>\n",
       "      <th>avg_glucose_level</th>\n",
       "      <th>bmi</th>\n",
       "      <th>smoking_status</th>\n",
       "      <th>stroke</th>\n",
       "    </tr>\n",
       "  </thead>\n",
       "  <tbody>\n",
       "    <tr>\n",
       "      <th>0</th>\n",
       "      <td>9046</td>\n",
       "      <td>Male</td>\n",
       "      <td>67.0</td>\n",
       "      <td>0</td>\n",
       "      <td>1</td>\n",
       "      <td>Yes</td>\n",
       "      <td>Private</td>\n",
       "      <td>Urban</td>\n",
       "      <td>228.69</td>\n",
       "      <td>36.6</td>\n",
       "      <td>formerly smoked</td>\n",
       "      <td>1</td>\n",
       "    </tr>\n",
       "    <tr>\n",
       "      <th>1</th>\n",
       "      <td>51676</td>\n",
       "      <td>Female</td>\n",
       "      <td>61.0</td>\n",
       "      <td>0</td>\n",
       "      <td>0</td>\n",
       "      <td>Yes</td>\n",
       "      <td>Self-employed</td>\n",
       "      <td>Rural</td>\n",
       "      <td>202.21</td>\n",
       "      <td>NaN</td>\n",
       "      <td>never smoked</td>\n",
       "      <td>1</td>\n",
       "    </tr>\n",
       "    <tr>\n",
       "      <th>2</th>\n",
       "      <td>31112</td>\n",
       "      <td>Male</td>\n",
       "      <td>80.0</td>\n",
       "      <td>0</td>\n",
       "      <td>1</td>\n",
       "      <td>Yes</td>\n",
       "      <td>Private</td>\n",
       "      <td>Rural</td>\n",
       "      <td>105.92</td>\n",
       "      <td>32.5</td>\n",
       "      <td>never smoked</td>\n",
       "      <td>1</td>\n",
       "    </tr>\n",
       "    <tr>\n",
       "      <th>3</th>\n",
       "      <td>60182</td>\n",
       "      <td>Female</td>\n",
       "      <td>49.0</td>\n",
       "      <td>0</td>\n",
       "      <td>0</td>\n",
       "      <td>Yes</td>\n",
       "      <td>Private</td>\n",
       "      <td>Urban</td>\n",
       "      <td>171.23</td>\n",
       "      <td>34.4</td>\n",
       "      <td>smokes</td>\n",
       "      <td>1</td>\n",
       "    </tr>\n",
       "    <tr>\n",
       "      <th>4</th>\n",
       "      <td>1665</td>\n",
       "      <td>Female</td>\n",
       "      <td>79.0</td>\n",
       "      <td>1</td>\n",
       "      <td>0</td>\n",
       "      <td>Yes</td>\n",
       "      <td>Self-employed</td>\n",
       "      <td>Rural</td>\n",
       "      <td>174.12</td>\n",
       "      <td>24.0</td>\n",
       "      <td>never smoked</td>\n",
       "      <td>1</td>\n",
       "    </tr>\n",
       "    <tr>\n",
       "      <th>...</th>\n",
       "      <td>...</td>\n",
       "      <td>...</td>\n",
       "      <td>...</td>\n",
       "      <td>...</td>\n",
       "      <td>...</td>\n",
       "      <td>...</td>\n",
       "      <td>...</td>\n",
       "      <td>...</td>\n",
       "      <td>...</td>\n",
       "      <td>...</td>\n",
       "      <td>...</td>\n",
       "      <td>...</td>\n",
       "    </tr>\n",
       "    <tr>\n",
       "      <th>5105</th>\n",
       "      <td>18234</td>\n",
       "      <td>Female</td>\n",
       "      <td>80.0</td>\n",
       "      <td>1</td>\n",
       "      <td>0</td>\n",
       "      <td>Yes</td>\n",
       "      <td>Private</td>\n",
       "      <td>Urban</td>\n",
       "      <td>83.75</td>\n",
       "      <td>NaN</td>\n",
       "      <td>never smoked</td>\n",
       "      <td>0</td>\n",
       "    </tr>\n",
       "    <tr>\n",
       "      <th>5106</th>\n",
       "      <td>44873</td>\n",
       "      <td>Female</td>\n",
       "      <td>81.0</td>\n",
       "      <td>0</td>\n",
       "      <td>0</td>\n",
       "      <td>Yes</td>\n",
       "      <td>Self-employed</td>\n",
       "      <td>Urban</td>\n",
       "      <td>125.20</td>\n",
       "      <td>40.0</td>\n",
       "      <td>never smoked</td>\n",
       "      <td>0</td>\n",
       "    </tr>\n",
       "    <tr>\n",
       "      <th>5107</th>\n",
       "      <td>19723</td>\n",
       "      <td>Female</td>\n",
       "      <td>35.0</td>\n",
       "      <td>0</td>\n",
       "      <td>0</td>\n",
       "      <td>Yes</td>\n",
       "      <td>Self-employed</td>\n",
       "      <td>Rural</td>\n",
       "      <td>82.99</td>\n",
       "      <td>30.6</td>\n",
       "      <td>never smoked</td>\n",
       "      <td>0</td>\n",
       "    </tr>\n",
       "    <tr>\n",
       "      <th>5108</th>\n",
       "      <td>37544</td>\n",
       "      <td>Male</td>\n",
       "      <td>51.0</td>\n",
       "      <td>0</td>\n",
       "      <td>0</td>\n",
       "      <td>Yes</td>\n",
       "      <td>Private</td>\n",
       "      <td>Rural</td>\n",
       "      <td>166.29</td>\n",
       "      <td>25.6</td>\n",
       "      <td>formerly smoked</td>\n",
       "      <td>0</td>\n",
       "    </tr>\n",
       "    <tr>\n",
       "      <th>5109</th>\n",
       "      <td>44679</td>\n",
       "      <td>Female</td>\n",
       "      <td>44.0</td>\n",
       "      <td>0</td>\n",
       "      <td>0</td>\n",
       "      <td>Yes</td>\n",
       "      <td>Govt_job</td>\n",
       "      <td>Urban</td>\n",
       "      <td>85.28</td>\n",
       "      <td>26.2</td>\n",
       "      <td>Unknown</td>\n",
       "      <td>0</td>\n",
       "    </tr>\n",
       "  </tbody>\n",
       "</table>\n",
       "<p>5110 rows × 12 columns</p>\n",
       "</div>"
      ],
      "text/plain": [
       "         id  gender   age  hypertension  heart_disease ever_married   \n",
       "0      9046    Male  67.0             0              1          Yes  \\\n",
       "1     51676  Female  61.0             0              0          Yes   \n",
       "2     31112    Male  80.0             0              1          Yes   \n",
       "3     60182  Female  49.0             0              0          Yes   \n",
       "4      1665  Female  79.0             1              0          Yes   \n",
       "...     ...     ...   ...           ...            ...          ...   \n",
       "5105  18234  Female  80.0             1              0          Yes   \n",
       "5106  44873  Female  81.0             0              0          Yes   \n",
       "5107  19723  Female  35.0             0              0          Yes   \n",
       "5108  37544    Male  51.0             0              0          Yes   \n",
       "5109  44679  Female  44.0             0              0          Yes   \n",
       "\n",
       "          work_type Residence_type  avg_glucose_level   bmi   smoking_status   \n",
       "0           Private          Urban             228.69  36.6  formerly smoked  \\\n",
       "1     Self-employed          Rural             202.21   NaN     never smoked   \n",
       "2           Private          Rural             105.92  32.5     never smoked   \n",
       "3           Private          Urban             171.23  34.4           smokes   \n",
       "4     Self-employed          Rural             174.12  24.0     never smoked   \n",
       "...             ...            ...                ...   ...              ...   \n",
       "5105        Private          Urban              83.75   NaN     never smoked   \n",
       "5106  Self-employed          Urban             125.20  40.0     never smoked   \n",
       "5107  Self-employed          Rural              82.99  30.6     never smoked   \n",
       "5108        Private          Rural             166.29  25.6  formerly smoked   \n",
       "5109       Govt_job          Urban              85.28  26.2          Unknown   \n",
       "\n",
       "      stroke  \n",
       "0          1  \n",
       "1          1  \n",
       "2          1  \n",
       "3          1  \n",
       "4          1  \n",
       "...      ...  \n",
       "5105       0  \n",
       "5106       0  \n",
       "5107       0  \n",
       "5108       0  \n",
       "5109       0  \n",
       "\n",
       "[5110 rows x 12 columns]"
      ]
     },
     "execution_count": 303,
     "metadata": {},
     "output_type": "execute_result"
    }
   ],
   "source": [
    "df # 5110 rows × 12 columns"
   ]
  },
  {
   "cell_type": "code",
   "execution_count": 304,
   "id": "7bbb11d4",
   "metadata": {},
   "outputs": [
    {
     "data": {
      "text/plain": [
       "Index(['id', 'gender', 'age', 'hypertension', 'heart_disease', 'ever_married',\n",
       "       'work_type', 'Residence_type', 'avg_glucose_level', 'bmi',\n",
       "       'smoking_status', 'stroke'],\n",
       "      dtype='object')"
      ]
     },
     "execution_count": 304,
     "metadata": {},
     "output_type": "execute_result"
    }
   ],
   "source": [
    "df.columns"
   ]
  },
  {
   "cell_type": "code",
   "execution_count": 305,
   "id": "6f2c2354",
   "metadata": {},
   "outputs": [],
   "source": [
    "# drop id column\n",
    "df.drop(columns = [\"id\"], inplace = True)"
   ]
  },
  {
   "cell_type": "code",
   "execution_count": 306,
   "id": "bd1bf2b8",
   "metadata": {
    "scrolled": true
   },
   "outputs": [
    {
     "data": {
      "text/plain": [
       "gender                 0\n",
       "age                    0\n",
       "hypertension           0\n",
       "heart_disease          0\n",
       "ever_married           0\n",
       "work_type              0\n",
       "Residence_type         0\n",
       "avg_glucose_level      0\n",
       "bmi                  201\n",
       "smoking_status         0\n",
       "stroke                 0\n",
       "dtype: int64"
      ]
     },
     "execution_count": 306,
     "metadata": {},
     "output_type": "execute_result"
    }
   ],
   "source": [
    "# check missing values\n",
    "df.isna().sum()"
   ]
  },
  {
   "cell_type": "code",
   "execution_count": 307,
   "id": "87b5e50a",
   "metadata": {},
   "outputs": [
    {
     "name": "stdout",
     "output_type": "stream",
     "text": [
      "gender\n",
      "Female    2994\n",
      "Male      2115\n",
      "Other        1\n",
      "Name: count, dtype: int64\n"
     ]
    }
   ],
   "source": [
    "print(df.gender.value_counts())# only one value is \"other\" as gender, therefore is removed\n",
    "df = df[df[\"gender\"]!=\"Other\"].copy()"
   ]
  },
  {
   "cell_type": "code",
   "execution_count": 308,
   "id": "1d3316d0",
   "metadata": {},
   "outputs": [],
   "source": [
    "# Convert 'hypertension', 'heart_disease' and 'stroke' to categorical column\n",
    "df['hypertension'] = df['hypertension'].map({0:'No', 1:'Yes'})\n",
    "df['heart_disease'] = df['heart_disease'].map({0:'No', 1:'Yes'})\n",
    "df['stroke'] = df['stroke'].map({0:'No', 1:'Yes'})"
   ]
  },
  {
   "cell_type": "code",
   "execution_count": 309,
   "id": "f3a70a8b",
   "metadata": {},
   "outputs": [
    {
     "data": {
      "text/html": [
       "<div>\n",
       "<style scoped>\n",
       "    .dataframe tbody tr th:only-of-type {\n",
       "        vertical-align: middle;\n",
       "    }\n",
       "\n",
       "    .dataframe tbody tr th {\n",
       "        vertical-align: top;\n",
       "    }\n",
       "\n",
       "    .dataframe thead th {\n",
       "        text-align: right;\n",
       "    }\n",
       "</style>\n",
       "<table border=\"1\" class=\"dataframe\">\n",
       "  <thead>\n",
       "    <tr style=\"text-align: right;\">\n",
       "      <th></th>\n",
       "      <th>gender</th>\n",
       "      <th>age</th>\n",
       "      <th>hypertension</th>\n",
       "      <th>heart_disease</th>\n",
       "      <th>ever_married</th>\n",
       "      <th>work_type</th>\n",
       "      <th>Residence_type</th>\n",
       "      <th>avg_glucose_level</th>\n",
       "      <th>bmi</th>\n",
       "      <th>smoking_status</th>\n",
       "      <th>stroke</th>\n",
       "    </tr>\n",
       "  </thead>\n",
       "  <tbody>\n",
       "    <tr>\n",
       "      <th>0</th>\n",
       "      <td>Male</td>\n",
       "      <td>67.0</td>\n",
       "      <td>No</td>\n",
       "      <td>Yes</td>\n",
       "      <td>Yes</td>\n",
       "      <td>Private</td>\n",
       "      <td>Urban</td>\n",
       "      <td>228.69</td>\n",
       "      <td>36.6</td>\n",
       "      <td>formerly smoked</td>\n",
       "      <td>Yes</td>\n",
       "    </tr>\n",
       "    <tr>\n",
       "      <th>1</th>\n",
       "      <td>Female</td>\n",
       "      <td>61.0</td>\n",
       "      <td>No</td>\n",
       "      <td>No</td>\n",
       "      <td>Yes</td>\n",
       "      <td>Self-employed</td>\n",
       "      <td>Rural</td>\n",
       "      <td>202.21</td>\n",
       "      <td>NaN</td>\n",
       "      <td>never smoked</td>\n",
       "      <td>Yes</td>\n",
       "    </tr>\n",
       "    <tr>\n",
       "      <th>2</th>\n",
       "      <td>Male</td>\n",
       "      <td>80.0</td>\n",
       "      <td>No</td>\n",
       "      <td>Yes</td>\n",
       "      <td>Yes</td>\n",
       "      <td>Private</td>\n",
       "      <td>Rural</td>\n",
       "      <td>105.92</td>\n",
       "      <td>32.5</td>\n",
       "      <td>never smoked</td>\n",
       "      <td>Yes</td>\n",
       "    </tr>\n",
       "    <tr>\n",
       "      <th>3</th>\n",
       "      <td>Female</td>\n",
       "      <td>49.0</td>\n",
       "      <td>No</td>\n",
       "      <td>No</td>\n",
       "      <td>Yes</td>\n",
       "      <td>Private</td>\n",
       "      <td>Urban</td>\n",
       "      <td>171.23</td>\n",
       "      <td>34.4</td>\n",
       "      <td>smokes</td>\n",
       "      <td>Yes</td>\n",
       "    </tr>\n",
       "    <tr>\n",
       "      <th>4</th>\n",
       "      <td>Female</td>\n",
       "      <td>79.0</td>\n",
       "      <td>Yes</td>\n",
       "      <td>No</td>\n",
       "      <td>Yes</td>\n",
       "      <td>Self-employed</td>\n",
       "      <td>Rural</td>\n",
       "      <td>174.12</td>\n",
       "      <td>24.0</td>\n",
       "      <td>never smoked</td>\n",
       "      <td>Yes</td>\n",
       "    </tr>\n",
       "  </tbody>\n",
       "</table>\n",
       "</div>"
      ],
      "text/plain": [
       "   gender   age hypertension heart_disease ever_married      work_type   \n",
       "0    Male  67.0           No           Yes          Yes        Private  \\\n",
       "1  Female  61.0           No            No          Yes  Self-employed   \n",
       "2    Male  80.0           No           Yes          Yes        Private   \n",
       "3  Female  49.0           No            No          Yes        Private   \n",
       "4  Female  79.0          Yes            No          Yes  Self-employed   \n",
       "\n",
       "  Residence_type  avg_glucose_level   bmi   smoking_status stroke  \n",
       "0          Urban             228.69  36.6  formerly smoked    Yes  \n",
       "1          Rural             202.21   NaN     never smoked    Yes  \n",
       "2          Rural             105.92  32.5     never smoked    Yes  \n",
       "3          Urban             171.23  34.4           smokes    Yes  \n",
       "4          Rural             174.12  24.0     never smoked    Yes  "
      ]
     },
     "execution_count": 309,
     "metadata": {},
     "output_type": "execute_result"
    }
   ],
   "source": [
    "df.head()"
   ]
  },
  {
   "cell_type": "code",
   "execution_count": 310,
   "id": "c6cb0624",
   "metadata": {},
   "outputs": [
    {
     "name": "stdout",
     "output_type": "stream",
     "text": [
      "<class 'pandas.core.frame.DataFrame'>\n",
      "Index: 5109 entries, 0 to 5109\n",
      "Data columns (total 11 columns):\n",
      " #   Column             Non-Null Count  Dtype  \n",
      "---  ------             --------------  -----  \n",
      " 0   gender             5109 non-null   object \n",
      " 1   age                5109 non-null   float64\n",
      " 2   hypertension       5109 non-null   object \n",
      " 3   heart_disease      5109 non-null   object \n",
      " 4   ever_married       5109 non-null   object \n",
      " 5   work_type          5109 non-null   object \n",
      " 6   Residence_type     5109 non-null   object \n",
      " 7   avg_glucose_level  5109 non-null   float64\n",
      " 8   bmi                4908 non-null   float64\n",
      " 9   smoking_status     5109 non-null   object \n",
      " 10  stroke             5109 non-null   object \n",
      "dtypes: float64(3), object(8)\n",
      "memory usage: 479.0+ KB\n"
     ]
    }
   ],
   "source": [
    "df.info()"
   ]
  },
  {
   "cell_type": "code",
   "execution_count": 311,
   "id": "d5c85e47",
   "metadata": {},
   "outputs": [
    {
     "data": {
      "text/plain": [
       "gender\n",
       "Female    29.065758\n",
       "Male      28.647936\n",
       "Name: bmi, dtype: float64"
      ]
     },
     "execution_count": 311,
     "metadata": {},
     "output_type": "execute_result"
    }
   ],
   "source": [
    "df.groupby('gender')['bmi'].mean() # similar values "
   ]
  },
  {
   "cell_type": "code",
   "execution_count": 312,
   "id": "c52f18c1",
   "metadata": {},
   "outputs": [
    {
     "data": {
      "text/plain": [
       "\"\\n\\n# https://www.researchgate.net/figure/Age-range-classes-defined-by-the-Age-Ontology-Age-range-classes-were-generally-defined_fig1_51200368\\n# Create new category based on age range\\nconditions= [(df['age'] <=12), \\n             (df['age'] >=13) & (df['age']<=18),\\n             (df['age'] >=19) & (df['age']<=24),\\n             (df['age'] >=25) & (df['age']<=45),\\n             (df['age'] >=46) & (df['age']<=64),\\n             (df['age'] >=65)\\n]\\n\\nvalues= ['Child','Adolescent','Young adult','Adult', 'Middle aged','Aged']\\ndf['age_category']= np.select(conditions,values)\\n\""
      ]
     },
     "execution_count": 312,
     "metadata": {},
     "output_type": "execute_result"
    }
   ],
   "source": [
    "\"\"\"\n",
    "\n",
    "# https://www.researchgate.net/figure/Age-range-classes-defined-by-the-Age-Ontology-Age-range-classes-were-generally-defined_fig1_51200368\n",
    "# Create new category based on age range\n",
    "conditions= [(df['age'] <=12), \n",
    "             (df['age'] >=13) & (df['age']<=18),\n",
    "             (df['age'] >=19) & (df['age']<=24),\n",
    "             (df['age'] >=25) & (df['age']<=45),\n",
    "             (df['age'] >=46) & (df['age']<=64),\n",
    "             (df['age'] >=65)\n",
    "]\n",
    "\n",
    "values= ['Child','Adolescent','Young adult','Adult', 'Middle aged','Aged']\n",
    "df['age_category']= np.select(conditions,values)\n",
    "\"\"\"\n"
   ]
  },
  {
   "cell_type": "code",
   "execution_count": 313,
   "id": "17dceaa9",
   "metadata": {},
   "outputs": [],
   "source": [
    "#sns.countplot(data = df , x ='age_category', order = ['Child','Adolescent','Young adult','Adult', 'Middle aged','Aged'])"
   ]
  },
  {
   "cell_type": "code",
   "execution_count": 314,
   "id": "b1c6a1d4",
   "metadata": {},
   "outputs": [
    {
     "data": {
      "text/html": [
       "<div>\n",
       "<style scoped>\n",
       "    .dataframe tbody tr th:only-of-type {\n",
       "        vertical-align: middle;\n",
       "    }\n",
       "\n",
       "    .dataframe tbody tr th {\n",
       "        vertical-align: top;\n",
       "    }\n",
       "\n",
       "    .dataframe thead th {\n",
       "        text-align: right;\n",
       "    }\n",
       "</style>\n",
       "<table border=\"1\" class=\"dataframe\">\n",
       "  <thead>\n",
       "    <tr style=\"text-align: right;\">\n",
       "      <th></th>\n",
       "      <th>gender</th>\n",
       "      <th>age</th>\n",
       "      <th>hypertension</th>\n",
       "      <th>heart_disease</th>\n",
       "      <th>ever_married</th>\n",
       "      <th>work_type</th>\n",
       "      <th>Residence_type</th>\n",
       "      <th>avg_glucose_level</th>\n",
       "      <th>bmi</th>\n",
       "      <th>smoking_status</th>\n",
       "      <th>stroke</th>\n",
       "    </tr>\n",
       "  </thead>\n",
       "  <tbody>\n",
       "    <tr>\n",
       "      <th>0</th>\n",
       "      <td>Male</td>\n",
       "      <td>67.0</td>\n",
       "      <td>No</td>\n",
       "      <td>Yes</td>\n",
       "      <td>Yes</td>\n",
       "      <td>Private</td>\n",
       "      <td>Urban</td>\n",
       "      <td>228.69</td>\n",
       "      <td>36.6</td>\n",
       "      <td>formerly smoked</td>\n",
       "      <td>Yes</td>\n",
       "    </tr>\n",
       "    <tr>\n",
       "      <th>1</th>\n",
       "      <td>Female</td>\n",
       "      <td>61.0</td>\n",
       "      <td>No</td>\n",
       "      <td>No</td>\n",
       "      <td>Yes</td>\n",
       "      <td>Self-employed</td>\n",
       "      <td>Rural</td>\n",
       "      <td>202.21</td>\n",
       "      <td>NaN</td>\n",
       "      <td>never smoked</td>\n",
       "      <td>Yes</td>\n",
       "    </tr>\n",
       "    <tr>\n",
       "      <th>2</th>\n",
       "      <td>Male</td>\n",
       "      <td>80.0</td>\n",
       "      <td>No</td>\n",
       "      <td>Yes</td>\n",
       "      <td>Yes</td>\n",
       "      <td>Private</td>\n",
       "      <td>Rural</td>\n",
       "      <td>105.92</td>\n",
       "      <td>32.5</td>\n",
       "      <td>never smoked</td>\n",
       "      <td>Yes</td>\n",
       "    </tr>\n",
       "    <tr>\n",
       "      <th>3</th>\n",
       "      <td>Female</td>\n",
       "      <td>49.0</td>\n",
       "      <td>No</td>\n",
       "      <td>No</td>\n",
       "      <td>Yes</td>\n",
       "      <td>Private</td>\n",
       "      <td>Urban</td>\n",
       "      <td>171.23</td>\n",
       "      <td>34.4</td>\n",
       "      <td>smokes</td>\n",
       "      <td>Yes</td>\n",
       "    </tr>\n",
       "    <tr>\n",
       "      <th>4</th>\n",
       "      <td>Female</td>\n",
       "      <td>79.0</td>\n",
       "      <td>Yes</td>\n",
       "      <td>No</td>\n",
       "      <td>Yes</td>\n",
       "      <td>Self-employed</td>\n",
       "      <td>Rural</td>\n",
       "      <td>174.12</td>\n",
       "      <td>24.0</td>\n",
       "      <td>never smoked</td>\n",
       "      <td>Yes</td>\n",
       "    </tr>\n",
       "  </tbody>\n",
       "</table>\n",
       "</div>"
      ],
      "text/plain": [
       "   gender   age hypertension heart_disease ever_married      work_type   \n",
       "0    Male  67.0           No           Yes          Yes        Private  \\\n",
       "1  Female  61.0           No            No          Yes  Self-employed   \n",
       "2    Male  80.0           No           Yes          Yes        Private   \n",
       "3  Female  49.0           No            No          Yes        Private   \n",
       "4  Female  79.0          Yes            No          Yes  Self-employed   \n",
       "\n",
       "  Residence_type  avg_glucose_level   bmi   smoking_status stroke  \n",
       "0          Urban             228.69  36.6  formerly smoked    Yes  \n",
       "1          Rural             202.21   NaN     never smoked    Yes  \n",
       "2          Rural             105.92  32.5     never smoked    Yes  \n",
       "3          Urban             171.23  34.4           smokes    Yes  \n",
       "4          Rural             174.12  24.0     never smoked    Yes  "
      ]
     },
     "execution_count": 314,
     "metadata": {},
     "output_type": "execute_result"
    }
   ],
   "source": [
    "df.head()"
   ]
  },
  {
   "cell_type": "markdown",
   "id": "48cbcd1e",
   "metadata": {},
   "source": [
    "# EDA"
   ]
  },
  {
   "cell_type": "code",
   "execution_count": 315,
   "id": "f325488f",
   "metadata": {},
   "outputs": [
    {
     "data": {
      "text/plain": [
       "'\\n# Plotting cathegorical data\\ncat_col = [\\'gender\\', \\'ever_married\\', \\'work_type\\', \\'Residence_type\\', \\'smoking_status\\', \\'age_category\\']\\n\\nfor cat in cat_col:\\n    sns.countplot(data=df, x=cat, hue = \"stroke\")\\n    plt.show()\\n'"
      ]
     },
     "execution_count": 315,
     "metadata": {},
     "output_type": "execute_result"
    }
   ],
   "source": [
    "\"\"\"\n",
    "# Plotting cathegorical data\n",
    "cat_col = ['gender', 'ever_married', 'work_type', 'Residence_type', 'smoking_status', 'age_category']\n",
    "\n",
    "for cat in cat_col:\n",
    "    sns.countplot(data=df, x=cat, hue = \"stroke\")\n",
    "    plt.show()\n",
    "\"\"\""
   ]
  },
  {
   "cell_type": "code",
   "execution_count": 316,
   "id": "eb37c516",
   "metadata": {},
   "outputs": [
    {
     "data": {
      "text/plain": [
       "\"num_col = ['hypertension', 'heart_disease', 'avg_glucose_level', 'bmi']\\n\\nfor num in num_col:\\n    sns.histplot(data=df, x=num, hue='stroke')\\n    plt.show()\\n\""
      ]
     },
     "execution_count": 316,
     "metadata": {},
     "output_type": "execute_result"
    }
   ],
   "source": [
    "\"\"\"num_col = ['hypertension', 'heart_disease', 'avg_glucose_level', 'bmi']\n",
    "\n",
    "for num in num_col:\n",
    "    sns.histplot(data=df, x=num, hue='stroke')\n",
    "    plt.show()\n",
    "\"\"\""
   ]
  },
  {
   "cell_type": "code",
   "execution_count": 317,
   "id": "0199f305",
   "metadata": {},
   "outputs": [],
   "source": [
    "## dealing with missing value --> BMI column"
   ]
  },
  {
   "cell_type": "code",
   "execution_count": 318,
   "id": "04972386",
   "metadata": {},
   "outputs": [],
   "source": [
    "#sns.pairplot(df)"
   ]
  },
  {
   "cell_type": "code",
   "execution_count": 319,
   "id": "9d621812",
   "metadata": {},
   "outputs": [],
   "source": [
    "# Check for outliers --> no outliers"
   ]
  },
  {
   "cell_type": "code",
   "execution_count": 320,
   "id": "b7c6cb3b",
   "metadata": {},
   "outputs": [
    {
     "data": {
      "text/plain": [
       "Index(['gender', 'age', 'hypertension', 'heart_disease', 'ever_married',\n",
       "       'work_type', 'Residence_type', 'avg_glucose_level', 'bmi',\n",
       "       'smoking_status', 'stroke'],\n",
       "      dtype='object')"
      ]
     },
     "execution_count": 320,
     "metadata": {},
     "output_type": "execute_result"
    }
   ],
   "source": [
    "df.columns"
   ]
  },
  {
   "cell_type": "code",
   "execution_count": 321,
   "id": "7f4226ae",
   "metadata": {},
   "outputs": [
    {
     "data": {
      "text/plain": [
       "stroke\n",
       "No     4860\n",
       "Yes     249\n",
       "Name: count, dtype: int64"
      ]
     },
     "execution_count": 321,
     "metadata": {},
     "output_type": "execute_result"
    }
   ],
   "source": [
    "df.stroke.value_counts()"
   ]
  },
  {
   "cell_type": "markdown",
   "id": "5cd6dfeb",
   "metadata": {},
   "source": [
    "# Downsampling\n",
    "The number of people with and without a stroke is imbalanced. There are ways to donwsample the majority class (i.e., remove some items of the \"stroke == 0\") \n",
    "\n",
    "Downsampling refers to removing records from majority classes in order to create a more balanced dataset. The simplest way of downsampling majority classes is by randomly removing records from that category. "
   ]
  },
  {
   "cell_type": "markdown",
   "id": "a6bc8c1e",
   "metadata": {},
   "source": [
    "### ratio = 50/50"
   ]
  },
  {
   "cell_type": "code",
   "execution_count": 322,
   "id": "76a84a04",
   "metadata": {},
   "outputs": [
    {
     "name": "stdout",
     "output_type": "stream",
     "text": [
      "(4860, 11)\n",
      "(249, 11)\n"
     ]
    },
    {
     "data": {
      "text/plain": [
       "<Axes: ylabel='Type'>"
      ]
     },
     "execution_count": 322,
     "metadata": {},
     "output_type": "execute_result"
    },
    {
     "data": {
      "image/png": "[encoded data removed]",
      "text/plain": [
       "<Figure size 640x480 with 1 Axes>"
      ]
     },
     "metadata": {},
     "output_type": "display_data"
    }
   ],
   "source": [
    "stroke_0 = df[df[\"stroke\"] == 'No']\n",
    "stroke_1 = df[df[\"stroke\"] == 'Yes']\n",
    "print(stroke_0.shape)\n",
    "print(stroke_1.shape)\n",
    "\n",
    "df.groupby('stroke').size().plot(kind='pie',\n",
    "                                       y = \"stroke\",\n",
    "                                       label = \"Type\",\n",
    "                                       autopct='%1.1f%%')"
   ]
  },
  {
   "cell_type": "code",
   "execution_count": 323,
   "id": "d5ef84d1",
   "metadata": {},
   "outputs": [
    {
     "name": "stdout",
     "output_type": "stream",
     "text": [
      "(249, 11)\n"
     ]
    }
   ],
   "source": [
    "from sklearn.utils import resample\n",
    "\n",
    "# Downsample majority class (stroke_0)\n",
    "stroke_0_downsample = resample(stroke_0,\n",
    "             replace=True,\n",
    "             n_samples=len(stroke_1),\n",
    "             random_state=42)\n",
    "\n",
    "print(stroke_0_downsample.shape)"
   ]
  },
  {
   "cell_type": "code",
   "execution_count": 324,
   "id": "81f1b1bb",
   "metadata": {},
   "outputs": [
    {
     "name": "stdout",
     "output_type": "stream",
     "text": [
      "stroke\n",
      "No     249\n",
      "Yes    249\n",
      "Name: count, dtype: int64\n"
     ]
    },
    {
     "data": {
      "text/plain": [
       "<Axes: ylabel='Type'>"
      ]
     },
     "execution_count": 324,
     "metadata": {},
     "output_type": "execute_result"
    },
    {
     "data": {
      "image/png": "[encoded data removed]",
      "text/plain": [
       "<Figure size 640x480 with 1 Axes>"
      ]
     },
     "metadata": {},
     "output_type": "display_data"
    }
   ],
   "source": [
    "data_downsampled = pd.concat([stroke_0_downsample, stroke_1])\n",
    "\n",
    "print(data_downsampled[\"stroke\"].value_counts())\n",
    "\n",
    "data_downsampled.groupby('stroke').size().plot(kind='pie',\n",
    "                                       y = \"stroke\",\n",
    "                                       label = \"Type\",\n",
    "                                       autopct='%1.1f%%')"
   ]
  },
  {
   "cell_type": "code",
   "execution_count": 325,
   "id": "3e5efc45",
   "metadata": {},
   "outputs": [
    {
     "data": {
      "text/html": [
       "<div>\n",
       "<style scoped>\n",
       "    .dataframe tbody tr th:only-of-type {\n",
       "        vertical-align: middle;\n",
       "    }\n",
       "\n",
       "    .dataframe tbody tr th {\n",
       "        vertical-align: top;\n",
       "    }\n",
       "\n",
       "    .dataframe thead th {\n",
       "        text-align: right;\n",
       "    }\n",
       "</style>\n",
       "<table border=\"1\" class=\"dataframe\">\n",
       "  <thead>\n",
       "    <tr style=\"text-align: right;\">\n",
       "      <th></th>\n",
       "      <th>gender</th>\n",
       "      <th>age</th>\n",
       "      <th>hypertension</th>\n",
       "      <th>heart_disease</th>\n",
       "      <th>ever_married</th>\n",
       "      <th>work_type</th>\n",
       "      <th>Residence_type</th>\n",
       "      <th>avg_glucose_level</th>\n",
       "      <th>bmi</th>\n",
       "      <th>smoking_status</th>\n",
       "      <th>stroke</th>\n",
       "    </tr>\n",
       "  </thead>\n",
       "  <tbody>\n",
       "    <tr>\n",
       "      <th>1109</th>\n",
       "      <td>Female</td>\n",
       "      <td>27.0</td>\n",
       "      <td>No</td>\n",
       "      <td>No</td>\n",
       "      <td>No</td>\n",
       "      <td>Private</td>\n",
       "      <td>Urban</td>\n",
       "      <td>93.55</td>\n",
       "      <td>41.6</td>\n",
       "      <td>never smoked</td>\n",
       "      <td>No</td>\n",
       "    </tr>\n",
       "    <tr>\n",
       "      <th>4022</th>\n",
       "      <td>Female</td>\n",
       "      <td>81.0</td>\n",
       "      <td>Yes</td>\n",
       "      <td>No</td>\n",
       "      <td>Yes</td>\n",
       "      <td>Self-employed</td>\n",
       "      <td>Urban</td>\n",
       "      <td>181.23</td>\n",
       "      <td>36.7</td>\n",
       "      <td>never smoked</td>\n",
       "      <td>No</td>\n",
       "    </tr>\n",
       "    <tr>\n",
       "      <th>3342</th>\n",
       "      <td>Male</td>\n",
       "      <td>63.0</td>\n",
       "      <td>No</td>\n",
       "      <td>No</td>\n",
       "      <td>Yes</td>\n",
       "      <td>Self-employed</td>\n",
       "      <td>Urban</td>\n",
       "      <td>248.37</td>\n",
       "      <td>32.2</td>\n",
       "      <td>smokes</td>\n",
       "      <td>No</td>\n",
       "    </tr>\n",
       "    <tr>\n",
       "      <th>715</th>\n",
       "      <td>Female</td>\n",
       "      <td>28.0</td>\n",
       "      <td>Yes</td>\n",
       "      <td>No</td>\n",
       "      <td>No</td>\n",
       "      <td>Private</td>\n",
       "      <td>Rural</td>\n",
       "      <td>80.40</td>\n",
       "      <td>57.5</td>\n",
       "      <td>never smoked</td>\n",
       "      <td>No</td>\n",
       "    </tr>\n",
       "    <tr>\n",
       "      <th>4676</th>\n",
       "      <td>Female</td>\n",
       "      <td>28.0</td>\n",
       "      <td>No</td>\n",
       "      <td>No</td>\n",
       "      <td>No</td>\n",
       "      <td>Private</td>\n",
       "      <td>Urban</td>\n",
       "      <td>73.20</td>\n",
       "      <td>26.5</td>\n",
       "      <td>smokes</td>\n",
       "      <td>No</td>\n",
       "    </tr>\n",
       "  </tbody>\n",
       "</table>\n",
       "</div>"
      ],
      "text/plain": [
       "      gender   age hypertension heart_disease ever_married      work_type   \n",
       "1109  Female  27.0           No            No           No        Private  \\\n",
       "4022  Female  81.0          Yes            No          Yes  Self-employed   \n",
       "3342    Male  63.0           No            No          Yes  Self-employed   \n",
       "715   Female  28.0          Yes            No           No        Private   \n",
       "4676  Female  28.0           No            No           No        Private   \n",
       "\n",
       "     Residence_type  avg_glucose_level   bmi smoking_status stroke  \n",
       "1109          Urban              93.55  41.6   never smoked     No  \n",
       "4022          Urban             181.23  36.7   never smoked     No  \n",
       "3342          Urban             248.37  32.2         smokes     No  \n",
       "715           Rural              80.40  57.5   never smoked     No  \n",
       "4676          Urban              73.20  26.5         smokes     No  "
      ]
     },
     "execution_count": 325,
     "metadata": {},
     "output_type": "execute_result"
    }
   ],
   "source": [
    "data_downsampled.head()"
   ]
  },
  {
   "cell_type": "markdown",
   "id": "1bc43243",
   "metadata": {},
   "source": [
    "## Machine learning"
   ]
  },
  {
   "cell_type": "code",
   "execution_count": 327,
   "id": "b05a5b0e",
   "metadata": {},
   "outputs": [
    {
     "data": {
      "text/plain": [
       "Index(['gender', 'age', 'hypertension', 'heart_disease', 'ever_married',\n",
       "       'work_type', 'Residence_type', 'avg_glucose_level', 'bmi',\n",
       "       'smoking_status', 'stroke'],\n",
       "      dtype='object')"
      ]
     },
     "execution_count": 327,
     "metadata": {},
     "output_type": "execute_result"
    }
   ],
   "source": [
    "data_downsampled.columns"
   ]
  },
  {
   "cell_type": "code",
   "execution_count": 326,
   "id": "4db377c8",
   "metadata": {},
   "outputs": [],
   "source": [
    "target_val = \"stroke\"\n",
    "X = data_downsampled.drop(target_val, axis=1)\n",
    "y = data_downsampled[target_val]"
   ]
  },
  {
   "cell_type": "code",
   "execution_count": 328,
   "id": "3846574b",
   "metadata": {},
   "outputs": [],
   "source": [
    "# Split train and test\n",
    "from sklearn.model_selection import train_test_split\n",
    "X_train, X_test, y_train, y_test = train_test_split(X, y, random_state = 42, test_size = 0.3)"
   ]
  },
  {
   "cell_type": "code",
   "execution_count": 329,
   "id": "9d7f4e71",
   "metadata": {},
   "outputs": [],
   "source": [
    "# Impute missing data, scale data and \n",
    "\n",
    "from sklearn.impute import SimpleImputer # imputing \"mean\" values when value is missing, it affects bmi column only \n",
    "from sklearn.preprocessing import StandardScaler, OneHotEncoder\n",
    "from sklearn.compose import make_column_transformer\n",
    "from sklearn.pipeline import make_pipeline\n",
    "\n",
    "\n",
    "#preprocess num col \n",
    "num_col = ['avg_glucose_level', 'bmi', 'age']\n",
    "#preprocess categorical columns\n",
    "cat_col = ['gender', 'hypertension', 'heart_disease', 'ever_married',\n",
    "       'work_type', 'Residence_type',  'smoking_status']\n",
    "\n",
    "imputer = SimpleImputer(strategy=\"mean\")\n",
    "scaler = StandardScaler()\n",
    "num_trans = make_pipeline(imputer, scaler)\n",
    "cat_trans = OneHotEncoder(drop='if_binary')\n",
    "\n",
    "\n",
    "# Transforming columns\n",
    "preprocessor = make_column_transformer((num_trans, num_col), (cat_trans, cat_col))\n"
   ]
  },
  {
   "cell_type": "code",
   "execution_count": 330,
   "id": "2f42fe80",
   "metadata": {},
   "outputs": [],
   "source": [
    "# Selecting classification models\n",
    "from sklearn.linear_model import LogisticRegression\n",
    "from sklearn.tree import DecisionTreeClassifier\n",
    "from sklearn.ensemble import RandomForestClassifier\n",
    "from sklearn.svm import SVC\n",
    "from sklearn.neighbors import KNeighborsClassifier\n",
    "from sklearn.naive_bayes import BernoulliNB\n",
    "from sklearn.model_selection import GridSearchCV"
   ]
  },
  {
   "cell_type": "code",
   "execution_count": 331,
   "id": "f8e287a3",
   "metadata": {},
   "outputs": [
    {
     "name": "stdout",
     "output_type": "stream",
     "text": [
      "Train score for LogisticRegression(max_iter=1000): 0.7901449275362319\n",
      "\n",
      "Train score for DecisionTreeClassifier(): 0.7356521739130435\n",
      "\n",
      "Train score for RandomForestClassifier(n_jobs=-1): 0.7901863354037267\n",
      "\n",
      "Train score for SVC(): 0.7815320910973085\n",
      "\n",
      "Train score for KNeighborsClassifier(n_jobs=-1): 0.7441821946169772\n",
      "\n"
     ]
    }
   ],
   "source": [
    "# try out several classification models\n",
    "classifiers = [\n",
    "    LogisticRegression(max_iter = 1000),\n",
    "    DecisionTreeClassifier(),\n",
    "    RandomForestClassifier(n_jobs = -1),\n",
    "    SVC(),\n",
    "    #BernoulliNB(),#: it gives an error if using GaussianNB() \n",
    "    KNeighborsClassifier(n_jobs = -1)\n",
    "]\n",
    "\n",
    "\n",
    "for classifier in classifiers:\n",
    "    pipe = make_pipeline(preprocessor, classifier)\n",
    "    grid = GridSearchCV(estimator = pipe, param_grid = {}, cv = 5, scoring = 'accuracy')\n",
    "    grid.fit(X_train, y_train)\n",
    "    \n",
    "    print(f\"Train score for {classifier}: {grid.best_score_}\")\n",
    "    print(\"\")"
   ]
  },
  {
   "cell_type": "markdown",
   "id": "1ea46659",
   "metadata": {},
   "source": [
    "### Summary \n",
    "with downsampling and 50/50 balance, we obtain the following values:\n",
    "- __Train score for LogisticRegression(max_iter=1000): 0.7901449275362319__\n",
    "- Train score for DecisionTreeClassifier(): 0.7356521739130435\n",
    "- __Train score for RandomForestClassifier(n_jobs=-1): 0.7901863354037267__\n",
    "- Train score for SVC(): 0.7815320910973085\n",
    "- Train score for KNeighborsClassifier(n_jobs=-1): 0.7441821946169772"
   ]
  },
  {
   "cell_type": "markdown",
   "id": "e5060ffa",
   "metadata": {},
   "source": [
    "#### Many classifiers predicts very well --> pick 2 to compete against each other: LogisticRegression vs RandomForest"
   ]
  },
  {
   "cell_type": "code",
   "execution_count": 332,
   "id": "a70a0319",
   "metadata": {},
   "outputs": [],
   "source": [
    "from sklearn.metrics import accuracy_score, recall_score, precision_score, confusion_matrix, ConfusionMatrixDisplay, f1_score, roc_auc_score, RocCurveDisplay\n"
   ]
  },
  {
   "cell_type": "markdown",
   "id": "c656893a",
   "metadata": {},
   "source": [
    "### Logistic regression"
   ]
  },
  {
   "cell_type": "code",
   "execution_count": 333,
   "id": "4fa1bd9a",
   "metadata": {},
   "outputs": [
    {
     "name": "stdout",
     "output_type": "stream",
     "text": [
      "Best score: 0.8015734989648033\n",
      "Best params: {'logisticregression__C': 0.1}\n"
     ]
    }
   ],
   "source": [
    "param_grid_logreg ={\n",
    "    'logisticregression__C' : [0.1, 1, 2, 10]\n",
    "}\n",
    "\n",
    "classifier = LogisticRegression(max_iter = 1000)\n",
    "pipe= make_pipeline(preprocessor, classifier)\n",
    "\n",
    "grid_logreg =GridSearchCV(estimator = pipe, \n",
    "                          param_grid = param_grid_logreg,\n",
    "                          cv = 5,\n",
    "                          scoring = \"accuracy\")\n",
    "\n",
    "grid_logreg.fit(X_train, y_train)\n",
    "\n",
    "print(f\"Best score: {grid_logreg.best_score_}\")\n",
    "print(f\"Best params: {grid_logreg.best_params_}\")"
   ]
  },
  {
   "cell_type": "code",
   "execution_count": 338,
   "id": "b6638d49",
   "metadata": {},
   "outputs": [
    {
     "name": "stdout",
     "output_type": "stream",
     "text": [
      "Precision score: 0.7534246575342466\n",
      "Accuracy score: 0.7266666666666667\n",
      "Recall score: 0.7051282051282052\n"
     ]
    },
    {
     "data": {
      "image/png": "[encoded data removed]",
      "text/plain": [
       "<Figure size 640x480 with 2 Axes>"
      ]
     },
     "metadata": {},
     "output_type": "display_data"
    }
   ],
   "source": [
    "y_pred = grid_logreg.predict(X_test)\n",
    "\n",
    "print(f\"Precision score: {precision_score(y_test, y_pred, pos_label='No')}\")\n",
    "print(f\"Accuracy score: {accuracy_score(y_test, y_pred)}\")\n",
    "print(f\"Recall score: {recall_score(y_test, y_pred,  pos_label='No')}\")\n",
    "\n",
    "cm = confusion_matrix(y_test, y_pred, labels=grid_logreg.classes_)\n",
    "disp = ConfusionMatrixDisplay(confusion_matrix=cm, display_labels=grid_logreg.classes_)\n",
    "\n",
    "disp.plot()\n",
    "plt.show()"
   ]
  },
  {
   "cell_type": "markdown",
   "id": "45ee0cb5",
   "metadata": {},
   "source": [
    "###  Random Forest"
   ]
  },
  {
   "cell_type": "code",
   "execution_count": 349,
   "id": "4eddc382",
   "metadata": {},
   "outputs": [
    {
     "name": "stdout",
     "output_type": "stream",
     "text": [
      "Best score: 0.801656314699793\n",
      "Best params: {'randomforestclassifier__max_features': 'sqrt', 'randomforestclassifier__n_estimators': 100}\n"
     ]
    }
   ],
   "source": [
    "param_grid_rf={\n",
    "    'randomforestclassifier__n_estimators' : [100, 200],\n",
    "    'randomforestclassifier__max_features' : [1, 0.1,\"auto\", \"sqrt\"]  \n",
    "}\n",
    "\n",
    "classifier = RandomForestClassifier(n_jobs=-1)\n",
    "pipe= make_pipeline(preprocessor, classifier)\n",
    "\n",
    "grid_rf =GridSearchCV(estimator = pipe, \n",
    "                          param_grid = param_grid_rf,\n",
    "                          cv = 5,\n",
    "                          scoring = \"accuracy\")\n",
    "\n",
    "grid_rf.fit(X_train, y_train)\n",
    "\n",
    "print(f\"Best score: {grid_rf.best_score_}\")\n",
    "print(f\"Best params: {grid_rf.best_params_}\")"
   ]
  },
  {
   "cell_type": "code",
   "execution_count": 350,
   "id": "242694f1",
   "metadata": {},
   "outputs": [
    {
     "name": "stdout",
     "output_type": "stream",
     "text": [
      "Precision score: 0.7662337662337663\n",
      "Accuracy score: 0.7533333333333333\n",
      "Recall score: 0.7564102564102564\n"
     ]
    },
    {
     "data": {
      "image/png": "[encoded data removed]",
      "text/plain": [
       "<Figure size 640x480 with 2 Axes>"
      ]
     },
     "metadata": {},
     "output_type": "display_data"
    }
   ],
   "source": [
    "y_pred = grid_rf.predict(X_test)\n",
    "\n",
    "print(f\"Precision score: {precision_score(y_test, y_pred, pos_label='No')}\")\n",
    "print(f\"Accuracy score: {accuracy_score(y_test, y_pred)}\")\n",
    "print(f\"Recall score: {recall_score(y_test, y_pred, pos_label='No')}\")\n",
    "\n",
    "cm = confusion_matrix(y_test, y_pred, labels=grid_rf.classes_)\n",
    "disp = ConfusionMatrixDisplay(confusion_matrix=cm, display_labels=grid_rf.classes_)\n",
    "\n",
    "disp.plot()\n",
    "plt.show()"
   ]
  },
  {
   "cell_type": "markdown",
   "id": "70351d95",
   "metadata": {},
   "source": [
    "### Descision tree"
   ]
  },
  {
   "cell_type": "code",
   "execution_count": 345,
   "id": "08ecc50d",
   "metadata": {},
   "outputs": [
    {
     "name": "stdout",
     "output_type": "stream",
     "text": [
      "Best score: 0.7702277432712215\n",
      "Best params: {'decisiontreeclassifier__min_samples_leaf': 10}\n"
     ]
    }
   ],
   "source": [
    "param_grid_dt = {'decisiontreeclassifier__min_samples_leaf':[1, 5, 10]}\n",
    "\n",
    "classifier = DecisionTreeClassifier()\n",
    "pipe = make_pipeline(preprocessor, classifier)\n",
    "\n",
    "grid_dt = GridSearchCV(estimator = pipe,\n",
    "                      param_grid = param_grid_dt,\n",
    "                      cv = 5,\n",
    "                      scoring = \"accuracy\")\n",
    "\n",
    "grid_dt.fit(X_train, y_train)\n",
    "\n",
    "print(f\"Best score: {grid_dt.best_score_}\")\n",
    "print(f\"Best params: {grid_dt.best_params_}\")"
   ]
  },
  {
   "cell_type": "code",
   "execution_count": 347,
   "id": "fd201f6d",
   "metadata": {},
   "outputs": [
    {
     "name": "stdout",
     "output_type": "stream",
     "text": [
      "Precision score: 0.7560975609756098\n",
      "Accuracy score: 0.76\n",
      "Recall score: 0.7948717948717948\n"
     ]
    },
    {
     "data": {
      "image/png": "[encoded data removed]",
      "text/plain": [
       "<Figure size 640x480 with 2 Axes>"
      ]
     },
     "metadata": {},
     "output_type": "display_data"
    }
   ],
   "source": [
    "y_pred = grid_dt.predict(X_test)\n",
    "\n",
    "print(f\"Precision score: {precision_score(y_test, y_pred,pos_label='No')}\")\n",
    "print(f\"Accuracy score: {accuracy_score(y_test, y_pred)}\")\n",
    "print(f\"Recall score: {recall_score(y_test, y_pred, pos_label='No')}\")\n",
    "\n",
    "cm = confusion_matrix(y_test, y_pred, labels=grid_dt.classes_)\n",
    "disp = ConfusionMatrixDisplay(confusion_matrix=cm, display_labels=grid_dt.classes_)\n",
    "\n",
    "disp.plot()\n",
    "plt.show()"
   ]
  },
  {
   "cell_type": "markdown",
   "id": "8deb4963",
   "metadata": {},
   "source": [
    "### Which features influence the target the most?"
   ]
  },
  {
   "cell_type": "code",
   "execution_count": null,
   "id": "7f2b3433",
   "metadata": {},
   "outputs": [],
   "source": [
    "### Look for the feature that most influence the target (chi-squared statistical test)\n",
    "\n",
    "from sklearn.feature_selection import SelectKBest\n",
    "from sklearn.feature_selection import chi2\n",
    "\n",
    "from sklearn.preprocessing import LabelEncoder\n",
    "\n",
    "X_train2= X_train.copy()\n",
    "\n",
    "number= LabelEncoder()\n",
    "X_train2['gender']= number.fit_transform(X_train2['gender'])\n",
    "X_train2['ever_married']= number.fit_transform(X_train2['ever_married'])\n",
    "X_train2['work_type']= number.fit_transform(X_train2['work_type'])\n",
    "X_train2['Residence_type']= number.fit_transform(X_train2['Residence_type'])\n",
    "X_train2['smoking_status']= number.fit_transform(X_train2['smoking_status'])\n",
    "X_train2['age_category']= number.fit_transform(X_train2['age_category'])\n",
    "X_train2.head(5)\n",
    "\n"
   ]
  },
  {
   "cell_type": "code",
   "execution_count": null,
   "id": "0dfdb94a",
   "metadata": {},
   "outputs": [],
   "source": [
    "### Look for the feature that most influence the target (chi-squared statistical test)\n",
    "\n",
    "from sklearn.feature_selection import SelectKBest\n",
    "from sklearn.feature_selection import chi2\n",
    "\n",
    "pipe = make_pipeline(preprocessor, classifier)\n",
    "\n",
    "X_train2 = X_train2.iloc[:,0:11] #all features \n",
    "Y_train2 = y_train #target\n",
    "\n",
    "\n",
    "best_features= SelectKBest(score_func=chi2, k=3) #function that selects the top 3 features.\n",
    "fit= best_features.fit(X_train2,Y_train2) \n",
    "\n",
    "\n",
    "\n",
    "#Creating dataframes for the features and the score of each feature.\n",
    "stroke_scores= pd.DataFrame(fit.scores_)\n",
    "stroke_columns= pd.DataFrame(X.columns)\n",
    "\n",
    "#Create a data frame that combines all the features and their corresponding scores.\n",
    "features_scores= pd.concat([stroke_columns, stroke_scores], axis=1)\n",
    "features_scores.columns= ['Features', 'Score']\n",
    "features_scores.sort_values(by = 'Score')"
   ]
  }
 ],
 "metadata": {
  "kernelspec": {
   "display_name": "Python 3 (ipykernel)",
   "language": "python",
   "name": "python3"
  },
  "language_info": {
   "codemirror_mode": {
    "name": "ipython",
    "version": 3
   },
   "file_extension": ".py",
   "mimetype": "text/x-python",
   "name": "python",
   "nbconvert_exporter": "python",
   "pygments_lexer": "ipython3",
   "version": "3.9.13"
  }
 },
 "nbformat": 4,
 "nbformat_minor": 5
}
